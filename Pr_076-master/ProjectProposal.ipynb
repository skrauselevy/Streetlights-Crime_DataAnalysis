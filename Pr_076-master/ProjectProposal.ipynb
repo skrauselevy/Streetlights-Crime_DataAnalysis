{
 "cells": [
  {
   "cell_type": "markdown",
   "metadata": {},
   "source": [
    "# COGS 108 - Assignment 4: Project Proposal"
   ]
  },
  {
   "cell_type": "markdown",
   "metadata": {},
   "source": [
    "## Important\n",
    "\n",
    "- Make sure all group member (3-5 people) are listed in the group members section.\n",
    "- ONE, and only one, member of your group should upload this notebook to TritonED. \n",
    "- Each member of the group will receive the same grade on this assignment. \n",
    "- Keep the file name the same: submit the file 'A4_ProjectProposal.ipynb'"
   ]
  },
  {
   "cell_type": "markdown",
   "metadata": {},
   "source": [
    "## Overview"
   ]
  },
  {
   "cell_type": "markdown",
   "metadata": {},
   "source": [
    "Read the project description, and detailed instructions for this assignment, in the 'A4_ProjectOutlineAndProposal' pdf."
   ]
  },
  {
   "cell_type": "markdown",
   "metadata": {},
   "source": [
    "## Group Members: Fill in the Student ID's of each group member here\n",
    "- A11515533 (Sophia Krause-Levy)\n",
    "- A14206532 (Mackenzie Duerksen)\n",
    "- A11619384 (Paris Do)\n",
    "- A11338100 (Jovan Limosnero)\n",
    "- A11298117 (Micaela Kingman)"
   ]
  },
  {
   "cell_type": "markdown",
   "metadata": {},
   "source": [
    "### Research Question\n",
    "\n",
    "What is your research question? (1-2 sentences)"
   ]
  },
  {
   "cell_type": "markdown",
   "metadata": {},
   "source": [
    "Do areas in San Diego with less streetlights have higher crime rate?"
   ]
  },
  {
   "cell_type": "markdown",
   "metadata": {},
   "source": [
    "### Hypothesis\n",
    "\n",
    "What is your prediction (2-3 sentences)"
   ]
  },
  {
   "cell_type": "markdown",
   "metadata": {},
   "source": [
    "Our prediction is that areas in San Diego with more street lighting will have lower crime rateS than areas that have less street lights. We believe that less street lighting indicates a higher likelihood of crimes in an area."
   ]
  },
  {
   "cell_type": "markdown",
   "metadata": {},
   "source": [
    "### Dataset(s)\n",
    "\n",
    "What data will you use to answer your question? Describe the dataset in terms of number of observations, what kind of features it contains, etc. You must use at least one dataset containing at least approximately 1000 observations (if your data are smaller but you feel they are sufficient, email Prof. Voytek). You are welcome (and in fact recommended) to find multiple datasets! If you do so, describe each one, and briefly explain how you will combine them together. "
   ]
  },
  {
   "cell_type": "markdown",
   "metadata": {},
   "source": [
    "Dataset #1:\n",
    "- Dataset Name:  Dataset Name: San Diego Regional Crime Incidents 2013 - 2017 (incidents - 100k)\n",
    "- Link to the dataset: http://data.sandiegodata.org/dataset/clarinova_com-crime-incidents-casnd-7ba4-extract \n",
    "- Number of observations: 100,000\n",
    "- Description: This dataset lists the mm/dd/yy time, address, community, etc. It can be used to map out where crimes occur in San Diego and the times of day\n",
    "\n",
    "Dataset #2:\n",
    "- Dataset Name: San Diego Street Light Locations\n",
    "- Link to the dataset: http://data.sandiegodata.org/dataset/clarinova_com-street_lights-casnd-429e-extract\n",
    "- Number of observations: 47,000+\n",
    "- Description: This dataset lists the longitude, latitude, city, neighborhood, and community of street lights in San Diego. It can be used to find locations in San Diego that are most lit. \n",
    "\n",
    "Combining the Datasets: We are combining these two datasets by comparing locations for crimes and the time of day with where street lights are located within the city to see which areas may need more lighting as well as more police patrolling."
   ]
  },
  {
   "cell_type": "markdown",
   "metadata": {},
   "source": [
    "### Background & Prior Work\n",
    "\n",
    "Why is this question of interest, what background information led you to your hypothesis, and why is this important?\n",
    "\n",
    "Find some relevant prior work, and reference them. Even if you think you have a totally novel question, find the most similar prior work you can, and discuss how it relates to your project. \n",
    "\n",
    "References can be research publications, but they need not be: blogs, github repositories, company websites, etc., are viable references if they are relevant to your project.\n",
    "\n",
    "(2-3 paragraphs, including at least 2 references)"
   ]
  },
  {
   "cell_type": "markdown",
   "metadata": {},
   "source": [
    "San Diego is a large county and unfortunately there are many areas that are not well lit, even in nicer areas such as the UCSD campus. Lighting adds a sense of security when people are walking home alone at night. This is especially important in areas such as San Diego, where a large portion of the population must use public transportation, many often not coming home until well after dark. People we know often opt out of walking alone at night because dark areas, even in wealthy neighborhoods, are presumed to be less safe. This assumption led us to wonder how much lighting truly does affect crime rates and what can be done to lower them.\n",
    "\n",
    "The research of  Brandon P. Welsh, David C. Farrington (2008), showed two main reasons for reduced crime rates due to an increase of street lighting. The first reason is simply the idea of deterrence, well lit areas can be viewed more easily and therefore criminals are more likely to be seen and therefore are less likely to commit crimes in those areas. The second reason, which Welsh and Farrington found to be even more causal, was that adding street lights to areas signified community improvement as well as investment in a given area. A neighborhood that is improving is less likely to have crimes. The research did not show a difference in the decrease of daytime v. nighttime crimes which indicates that the lighting itself did not simply deter criminals when it was most useful, but instead overall. This suggests that adding street lights to areas may be enough to curb crimes during the day as well. \n",
    "\n",
    "Another study done by Steinbach, Perkins, et. al. (2015) researched how the reduction in street lighting in England and Wales would affect crime and traffic incidents. They found that dimming lights, turning some off permanently and lowering the number of hours the lights were on per day did not affect the crime rates in the areas. This seems to coincide with the research done by Brandon P. Welsh, David C. Farrington (2008), in showing that the lights themselves may make a difference in crime rates but the time of day and how long the lights are on does not. These papers along with others show a correlation between street lights and crime rates but that the lighting itself does not make the difference. This is something we plan on analyzing through our data analysis to see if there are areas in San Diego that would benefit from the introduction of more street lights and if it would lower crime rates in the given areas.\n",
    "\n",
    "Referencess (include a link):\n",
    "- 1) https://www.crimesolutions.gov/PracticeDetails.aspx?ID=38 \n",
    "\n",
    "- 2) http://www.crim.cam.ac.uk/people/academic_research/david_farrington/light.pdf\n",
    "\n",
    "- 3) http://jech.bmj.com/content/early/2015/07/08/jech-2015-206012"
   ]
  },
  {
   "cell_type": "markdown",
   "metadata": {},
   "source": [
    "### Proposed Methods\n",
    "\n",
    "What methods will you use to analyze your data?\n",
    "\n",
    "- How 'clean' is the data? To the extent that it requires cleaning, how will you do so?\n",
    "- How will you analyze the data? Be as specific as you can. Briefly mention any pre-processing steps that are required for your methods (for example, checking data distributions and performing any transformations that may be required). Include a brief outline of how you will apply your chosen method(s). \n",
    "- What do you plan to report? Briefly mention any key visualizations you plan to create, and/or the kind of result you will be able to report that addresses your question (this could be, for example, the outcome of some statistical test(s), prediction error on a model, a model fit parameter, etc.).\n",
    "- Include a list of packages you expect to use for you project. If you plan to use packages we have not used in class, add a very brief description about them (a few words is sufficient). "
   ]
  },
  {
   "cell_type": "markdown",
   "metadata": {},
   "source": [
    "*Data Cleaning*\n",
    "\n",
    "We will remove the following columns from the  “San Diego Street Light Locations” dataset: OGC_FID, GEOMETRY, streetlights_id, polenum, sapidf, eqpid, status, x, y, and council. The resulting dataset will contain the columns: lon, lat, city, neighborhood, community. We will keep columns in the “San Diego Region Crime Incident 2007 - 2013” that overlap with the “San Diego Street Locations” dataset, such as lon, lat, city, neighborhood, and community. We will also be keeping the columns year, month, and type. All other columns will be dropped. Furthermore, we will drop rows with types of crimes that do not occur during the night time. \n",
    "\n",
    "*Data Analysis*\n",
    "\n",
    "After we clean our two datasets, we will determine which areas in San Diego have the most light using the latitude (x) and longitude (y) of streetlights. We will create a scatterplot using the x, y coordinates to find the distribution of streetlights. We will plot the x, y coordinates of crimes on top of the streetlight location scatterplot. In addition, we will look at how crime incidents correlate with streetlight locations using Pearson correlation, and look at their plots using pandas.scatter_matrix(). This will be similar to A2. \n",
    "\n",
    "\n",
    "*What to report*\n",
    "\n",
    "We plan to report the correlation between the density of streetlights with number of crime incidents. We will use two scatter plots. One to display on an x, y coordinates areas with a high density of streetlights and the other to display the density of crime incidents. In order to support our hypothesis, we are looking for crimes committed with areas of low density of streetlights. We will report the correlation between streetlight locations and crime incidents, and also a map of the streetlight locations with locations of crime incident.\n",
    "\n",
    "Packages we plan to use:\n",
    "- Pandas\n",
    "- Math\n",
    "- MatPlotLib\n",
    "-BaseMap"
   ]
  },
  {
   "cell_type": "markdown",
   "metadata": {},
   "source": [
    "### Discussion\n",
    "\n",
    "What are the pitfalls and potential confounds of your data and/or methods? For example, how might biases in your data sources or analyses influence your interpretations? What will you do if you methods don't work and/or your hypotheses are wrong?\n",
    "\n",
    "(2-3 paragraphs)"
   ]
  },
  {
   "cell_type": "markdown",
   "metadata": {},
   "source": [
    "For this project, we are testing the assumption that there exists a relationship between the amount of street lights and crime such that areas with less light are more susceptible to crime. There may be  limited contextual representation as there may be, for example, gated communities or neighborhoods with low light, but low crime rate as well that might confound our research. Also, using a large amount of information for all of San Diego, it may be quite certain that nuances in the dynamics of communities may affect our findings as some neighborhoods could counter our hypothesis. \n",
    "\n",
    "It is also important to remember that there is not much research done on occurrences of crime during the day or night on this topic, so it might be difficult to find a clear correlation between crime and lighting, and we may have to look at key times during the day when street lights would be needed. It would be also interesting to see how those dynamics change depending on the time of the year/season. During Holiday Season would, in theory, increase the level of crime. So the time of year would need to be monitored in our data analysis as well as time of day. If for some reason, more lighting in neighborhoods doesn’t correlate to less crime, as stated before, we would likely need to consider other dynamics in the system. "
   ]
  }
 ],
 "metadata": {
  "kernelspec": {
   "display_name": "Python 2",
   "language": "python",
   "name": "python2"
  },
  "language_info": {
   "codemirror_mode": {
    "name": "ipython",
    "version": 2
   },
   "file_extension": ".py",
   "mimetype": "text/x-python",
   "name": "python",
   "nbconvert_exporter": "python",
   "pygments_lexer": "ipython2",
   "version": "2.7.13"
  }
 },
 "nbformat": 4,
 "nbformat_minor": 2
}
